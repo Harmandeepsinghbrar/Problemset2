{
 "cells": [
  {
   "cell_type": "markdown",
   "id": "0c31cd94",
   "metadata": {},
   "source": [
    "# Question 1 Consider the following Python module:\n",
    "a = 0 \n",
    "def  b():\n",
    "global  a\n",
    "a  = c(a)  \n",
    "def  c(a):\n",
    "return  a  +  2 \n",
    "After importing the module into the interpreter, you execute:\n",
    "    >>> b() \n",
    "    >>> b()\n",
    "    >>> b() >>> \n",
    "    a\n",
    "    ? \n",
    "What value is displayed when the last expression \n",
    "(a) is evaluated? Explain your answer by indicating what happens in every executed statement.  "
   ]
  },
  {
   "cell_type": "markdown",
   "id": "7d917ddb",
   "metadata": {},
   "source": [
    "Solution: Explaintion when given program executed ,Steps are below:\n",
    "STEP 1 \n",
    "When `b()` is executed for the first time:\n",
    "•\tThe function `b` is called.\n",
    "\n",
    "a.\tInside `b`, the statement `global a` is used to indicate that the variable `a` being referred to is the global variable, not a local one.\n",
    "b.\tThen, the function `c(a)` is called, passing the current value of `a` (which is 0) as an argument.\n",
    "c.\tIn the function `c(a)`, the argument `a` is added with 2, resulting in `0 + 2`.\n",
    "d.\tThe value 2 is returned from `c(a)`.\n",
    "e.\tFinally, the result of `c(a)` (which is 2) is assigned to the global variable `a`.\n",
    "\n",
    "          At this point, the value of `a` becomes 2.\n",
    "\n",
    "STEP 2\n",
    " \n",
    "•\t`b()` is executed for the second time:\n",
    "\n",
    "•\tThe function `b` is called again.\n",
    "\n",
    "a)\tThe statement `global a` ensures that the global variable `a` is used.\n",
    "b)\tThe function `c(a)` is called with the current value of `a` (which is 2) as an argument.\n",
    "c)\tIn `c(a)`, the argument `a` is added with 2, resulting in `2 + 2`.\n",
    "d)\tThe value 4 is returned from `c(a)`.\n",
    "e)\tThe returned value (4) is assigned to the global variable `a`.\n",
    "\n",
    "Now, the value of `a` becomes 4.\n",
    "STEP 3\n",
    "•\tb()` is executed for the third time:\n",
    "\n",
    "•\tSimilar to the previous executions, `b` is called.\n",
    "\n",
    "\n",
    "i.\tThe statement `global a` ensures the use of the global variable `a`.\n",
    "ii.\tThe function `c(a)` is called with the current value of `a` (which is 4) as an argument.\n",
    "iii.\tIn `c(a)`, the argument `a` is added with 2, resulting in `4 + 2`.\n",
    "iv.\tThe value 6 is returned from `c(a)`.\n",
    "v.\tThe returned value (6) is assigned to the global variable `a`.\n",
    "\n",
    "Consequently, the value of `a` becomes 6.\n",
    "\n",
    "Finally, when the last expression `a` is evaluated, it will display the value of the global variable `a`, which is 6.\n"
   ]
  },
  {
   "cell_type": "markdown",
   "id": "30929e30",
   "metadata": {},
   "source": [
    "# Question 2 Function fileLength(), given to you, takes the name of a file as input and returns the length of the file:\n",
    "  fileLength('midterm.py') 284\n",
    "  >  fileLength('idterm.py') Traceback  (most  recent  call  last): File  \"<pyshell#34>\",  line  1,  in  <module> fileLength\n",
    "    ('idterm.py') File  \"/Users/me/midterm.py\",  line  3,  in  fileLength infile  =  open(filename) FileNotFoundError:  [Errno  2]  No  such  file  or  directory: 'idterm.py'  As shown above, if the file cannot be found by the interpreter or if it cannot be read as a text file, an exception will be raised. Modify function fileLength() so that a friendly message is printed instead:  >>fleLength('midterm.py') 358\n",
    "    >>>  fileLength('idterm.py') File  idterm.py  not  found.  "
   ]
  },
  {
   "cell_type": "code",
   "execution_count": null,
   "id": "6b4f901a",
   "metadata": {},
   "outputs": [],
   "source": [
    "def fileLength(filename):\n",
    "    try:\n",
    "        infile = open(filename, 'r')\n",
    "        contents = infile.read()\n",
    "        infile.close()\n",
    "        return len(contents)\n",
    "   except (FileNotFoundError, IOError):\n",
    "        print(f\"File {filename} not found.\")\n"
   ]
  },
  {
   "cell_type": "raw",
   "id": "00ffbb1b",
   "metadata": {},
   "source": [
    "Output:\n",
    "For fileLength('midterm.py'):\n",
    "284\n",
    "For fileLength('idterm.py'):\n",
    "File idterm.py not found.TPUT OF 2:\n"
   ]
  },
  {
   "cell_type": "markdown",
   "id": "5b30867e",
   "metadata": {},
   "source": [
    "# Question 3 Write a class named Marsupial that can be used as shown below:\n",
    ">>>  m  =  Marsupial() \n",
    ">>>  m.put_in_pouch('doll')\n",
    ">>>  m.put_in_pouch('firetruck') \n",
    ">>>  m.put_in_pouch('kitten')\n",
    ">>>  m.pouch_contents()  ['doll',  'firetruck',  'kitten']\n",
    "\n",
    "Now write a class named Kangaroo as a subclass of Marsupial that inherits all the attributes of Marsupial and also: a. extends the Marsupial  __init__ constructor to take, as input, the coordinates x and y of the Kangaroo object, b. supports method jump that takes number values dx and dy as input and moves the kangaroo by dx units along the x-axis and by dy units along the y- axis, and c. overloads the __str__ operator so it behaves as shown below.\n",
    "\n",
    ">>>  k  =  Kangaroo(0,0)\n",
    ">>>  print(k) I  am  a  Kangaroo  located  at  coordinates  (0,0) \n",
    ">>>  k.put_in_pouch('doll') \n",
    ">>>  k.put_in_pouch('firetruck')\n",
    ">>>  k.put_in_pouch('kitten')\n",
    ">>>  k.pouch_contents()  ['doll',  'firetruck',  'kitten'] \n",
    ">>>  k.jump(1,0) \n",
    ">>>  k.jump(1,0) \n",
    ">>>  k.jump(1,0) \n",
    ">>>  print(k) I  am  a  Kangaroo  located  at  coordinates  (3,0)"
   ]
  },
  {
   "cell_type": "code",
   "execution_count": 4,
   "id": "63442a50",
   "metadata": {},
   "outputs": [
    {
     "name": "stdout",
     "output_type": "stream",
     "text": [
      "['doll', 'firetruck', 'kitten']\n",
      "I am a Kangaroo located at coordinates (0,0)\n",
      "['doll', 'firetruck', 'kitten']\n",
      "I am a Kangaroo located at coordinates (3,0)\n"
     ]
    }
   ],
   "source": [
    "class Marsupial:\n",
    "    def __init__(self):\n",
    "        self.pouch = []\n",
    "\n",
    "    def put_in_pouch(self, item):\n",
    "        self.pouch.append(item)\n",
    "\n",
    "    def pouch_contents(self):\n",
    "        return self.pouch\n",
    "\n",
    "\n",
    "class Kangaroo(Marsupial):\n",
    "    def __init__(self, x, y):\n",
    "        super().__init__()\n",
    "        self.x = x\n",
    "        self.y = y\n",
    "\n",
    "    def jump(self, dx, dy):\n",
    "        self.x += dx\n",
    "        self.y += dy\n",
    "\n",
    "    def __str__(self):\n",
    "        return f\"I am a Kangaroo located at coordinates ({self.x},{self.y})\"\n",
    "\n",
    "\n",
    "# Testing the classes\n",
    "m = Marsupial()\n",
    "m.put_in_pouch('doll')\n",
    "m.put_in_pouch('firetruck')\n",
    "m.put_in_pouch('kitten')\n",
    "print(m.pouch_contents())  # Output: ['doll', 'firetruck', 'kitten']\n",
    "\n",
    "k = Kangaroo(0, 0)\n",
    "print(k)  # Output: I am a Kangaroo located at coordinates (0,0)\n",
    "\n",
    "k.put_in_pouch('doll')\n",
    "k.put_in_pouch('firetruck')\n",
    "k.put_in_pouch('kitten')\n",
    "print(k.pouch_contents())  # Output: ['doll', 'firetruck', 'kitten']\n",
    "\n",
    "k.jump(1, 0)\n",
    "k.jump(1, 0)\n",
    "k.jump(1, 0)\n",
    "print(k)  # Output: I am a Kangaroo located at coordinates (3,0)\n"
   ]
  },
  {
   "cell_type": "markdown",
   "id": "81f1e8e1",
   "metadata": {},
   "source": [
    "# Question 4\n",
    "Write function collatz() that takes a positive integer x as input and prints the Collatz sequence starting at x.\n",
    "A Collatz sequence is obtained by repeatedly applying this rule to the previous number x in the sequence: \n",
    "\n",
    "x = {  𝑥/2 𝑖𝑓 𝑥 𝑖𝑠 𝑒𝑣𝑒𝑛 3𝑥 + 1 𝑖𝑓 𝑥 𝑖𝑠 𝑜𝑑𝑑  \n",
    "\n",
    "Your function should stop when the sequence gets to number 1.\n",
    "Your implementation must be recursive, without any loops. "
   ]
  },
  {
   "cell_type": "code",
   "execution_count": 8,
   "id": "fbdbe8ad",
   "metadata": {},
   "outputs": [
    {
     "name": "stdout",
     "output_type": "stream",
     "text": [
      "1\n",
      "10\n",
      "5\n",
      "16\n",
      "8\n",
      "4\n",
      "2\n",
      "1\n"
     ]
    }
   ],
   "source": [
    "def collatz(x):\n",
    "     print(x)\n",
    "\n",
    "     # Base case: when x reaches 1, stop the recursion\n",
    "     if x == 1:\n",
    "         return\n",
    "\n",
    "     # Recursive case: calculate the next number in the sequence\n",
    "     elif x % 2 == 0:\n",
    "         collatz(x // 2)\n",
    "     else:\n",
    "         collatz(3 * x + 1)\n",
    "collatz(1)\n",
    "collatz(10)"
   ]
  },
  {
   "cell_type": "markdown",
   "id": "792341f7",
   "metadata": {},
   "source": [
    "# Question 5 \n",
    "Write a recursive method binary() that takes a non-negative integer n and prints the binary representation of integer n. \n",
    ">>>  binary(0) 0\n",
    ">>>  binary(1) 1\n",
    ">>>  binary(3) 11\n",
    ">>>  binary(9) 1001 "
   ]
  },
  {
   "cell_type": "code",
   "execution_count": 2,
   "id": "9c3953e4",
   "metadata": {},
   "outputs": [
    {
     "name": "stdout",
     "output_type": "stream",
     "text": [
      "0\n",
      "1\n",
      "11\n",
      "1001\n"
     ]
    }
   ],
   "source": [
    "def binary(n):\n",
    "    if n == 0:\n",
    "        return '0'\n",
    "    elif n == 1:\n",
    "        return '1'\n",
    "    else:\n",
    "        return binary(n // 2) + str(n % 2)\n",
    "\n",
    "# Test the function\n",
    "print(binary(0)) # Output: 0\n",
    "print(binary(1)) # Output: 1\n",
    "print(binary(3)) # Output: 11\n",
    "print(binary(9)) # Output: 1001\n"
   ]
  },
  {
   "cell_type": "markdown",
   "id": "56be7e43",
   "metadata": {},
   "source": [
    "# Question 6\n",
    "Implement a class named HeadingParser that can be used to parse an HTML document, and retrieve and print all the headings in the document. You should implement your class as a subclass of HTMLParser, defined in Standard Library module html.parser.When fed a string containing HTML code, your class should print the headings, one per line and in the order in which they appear in the document. Each heading should be indented as follows: an h1 heading should haveindentation 0, and h2 heading should have indentation 1, etc. Test your implementation using w3c.html.\n",
    "\n",
    ">>>  infile  =  open('w3c.html')\n",
    ">>>  content  =  infile.read()\n",
    ">>>  infile.close() \n",
    ">>>  hp  =  HeadingParser() \n",
    ">>>  hp.feed(content) W3C  Mission Principles "
   ]
  },
  {
   "cell_type": "code",
   "execution_count": null,
   "id": "e686e2da",
   "metadata": {},
   "outputs": [],
   "source": [
    " Solution:\n",
    "\n",
    "from html.parser import HTMLParser\n",
    "\n",
    "class HeadingParser(HTMLParser):\n",
    "    def __init__(self):\n",
    "        super().__init__()\n",
    "        self.headings = []\n",
    "        self.indentation = 0\n",
    "\n",
    "    def handle_starttag(self, tag, attrs):\n",
    "        if tag.startswith('h') and len(tag) == 2 and tag[1].isdigit():\n",
    "            self.indentation = int(tag[1]) - 1\n",
    "\n",
    "    def handle_endtag(self, tag):\n",
    "        if tag.startswith('h') and len(tag) == 2 and tag[1].isdigit():\n",
    "            self.indentation = 0\n",
    "\n",
    "    def handle_data(self, data):\n",
    "        heading = data.strip()\n",
    "        if heading:\n",
    "            self.headings.append((' ' * self.indentation) + heading)\n",
    "\n",
    "    def print_headings(self):\n",
    "        for heading in self.headings:\n",
    "            print(heading)\n",
    "\n",
    "# Test usage\n",
    "infile = open('w3c.html')\n",
    "content = infile.read()\n",
    "infile.close()\n",
    "\n",
    "hp = HeadingParser()\n",
    "hp.feed(content)\n",
    "hp.print_headings()\n"
   ]
  },
  {
   "cell_type": "raw",
   "id": "6c3ade3d",
   "metadata": {},
   "source": [
    "output:\n",
    "W3C Mission\n",
    "Principles\n"
   ]
  },
  {
   "cell_type": "markdown",
   "id": "07a074f3",
   "metadata": {},
   "source": [
    "# Question 7\n",
    "Implement recursive function webdir() that takes as input: a URL (as a string) and non-negative integers depth and indent. Your function should visit every web page reachable from the starting URL web page in depth clicks or less, and print each web page's URL. As shown below, indentation, specified by indent,  should be used to indicate the depth of a URL. \n",
    ">>> webdir('http://reed.cs.depaul.edu/lperkovic/csc242/test1.html' ,  2,  0) http://reed.cs.depaul.edu/lperkovic/csc242/test1.html\n",
    "http://reed.cs.depaul.edu/lperkovic/csc242/test2.html\n",
    "http://reed.cs.depaul.edu/lperkovic/csc242/test4.html\n",
    "http://reed.cs.depaul.edu/lperkovic/csc242/test3.html\n",
    "http://reed.cs.depaul.edu/lperkovic/csc242/test4.html "
   ]
  },
  {
   "cell_type": "code",
   "execution_count": 9,
   "id": "4232fdb1",
   "metadata": {},
   "outputs": [
    {
     "name": "stdout",
     "output_type": "stream",
     "text": [
      "https://example.com\n",
      " https://www.iana.org/domains/example\n",
      "  http://www.icann.org/topics/idn/\n",
      "  http://www.icann.org/\n",
      "  http://www.icann.org/en/registries/agreements.htm\n",
      "  http://pti.icann.org\n",
      "  http://www.icann.org/\n",
      "  https://www.icann.org/privacy/policy\n",
      "  https://www.icann.org/privacy/tos\n"
     ]
    }
   ],
   "source": [
    "import requests\n",
    "from bs4 import BeautifulSoup\n",
    "\n",
    "\n",
    "def webdir(url, depth, indent):\n",
    "    if depth < 0:\n",
    "        return\n",
    "\n",
    "    response = requests.get(url)\n",
    "    soup = BeautifulSoup(response.content, 'html.parser')\n",
    "\n",
    "    print(' ' * indent + url)\n",
    "\n",
    "    if depth == 0:\n",
    "        return\n",
    "\n",
    "    links = soup.find_all('a')\n",
    "    for link in links:\n",
    "        href = link.get('href')\n",
    "        if href.startswith('http'):\n",
    "            webdir(href, depth - 1, indent + 1)\n",
    "\n",
    "\n",
    "# Test the function\n",
    "webdir('https://example.com', 2, 0)\n"
   ]
  },
  {
   "cell_type": "markdown",
   "id": "c66494b0",
   "metadata": {},
   "source": [
    "# Question 8\n",
    "Write SQL queries on the below database table that return:\n",
    "a) All the temperature data. \n",
    "b) All the cities, but without repetition.\n",
    "c) All the records for India. \n",
    "d) All the Fall records. "
   ]
  },
  {
   "cell_type": "code",
   "execution_count": null,
   "id": "2a706b6b",
   "metadata": {},
   "outputs": [],
   "source": [
    "import sqlite3\n",
    "\n",
    "# Create a connection to the SQLite database\n",
    "conn = sqlite3.connect(\":memory:\") # Use in-memory database for demonstration purposes\n",
    "cursor = conn.cursor()\n",
    "\n",
    "# Create the table\n",
    "cursor.execute('''CREATE TABLE WeatherData\n",
    "(City TEXT, Country TEXT, Season TEXT, Temperature REAL, Rainfall REAL)''')\n",
    "\n",
    "# Insert sample data into the table\n",
    "cursor.execute(\"INSERT INTO WeatherData VALUES ('New York', 'United States', 'Spring', 15.2, 200.1)\")\n",
    "cursor.execute(\"INSERT INTO WeatherData VALUES ('London', 'United Kingdom', 'Spring', 10.4, 150.2)\")\n",
    "cursor.execute(\"INSERT INTO WeatherData VALUES ('Mumbai', 'India', 'Winter', 25.0, 50.5)\")\n",
    "cursor.execute(\"INSERT INTO WeatherData VALUES ('Cairo', 'Egypt', 'Fall', 30.6, 50.0)\")\n",
    "cursor.execute(\"INSERT INTO WeatherData VALUES ('New York', 'United States', 'Summer', 35.0, 100.0)\")\n",
    "cursor.execute(\"INSERT INTO WeatherData VALUES ('Mumbai', 'India', 'Spring', 28.3, 75.2)\")\n",
    "cursor.execute(\"INSERT INTO WeatherData VALUES ('Cairo', 'Egypt', 'Winter', 20.2, 10.0)\")\n",
    "cursor.execute(\"INSERT INTO WeatherData VALUES ('London', 'United Kingdom', 'Fall', 12.8, 250.0)\")\n",
    "cursor.execute(\"INSERT INTO WeatherData VALUES ('New York', 'United States', 'Winter', 3.5, 50.0)\")\n",
    "cursor.execute(\"INSERT INTO WeatherData VALUES ('Mumbai', 'India', 'Fall', 27.8, 150.0)\")\n",
    "\n",
    "# Commit the changes and close the connection\n",
    "conn.commit()\n",
    "conn.close()\n",
    "\n",
    "# Connect to the database again for executing queries\n",
    "conn = sqlite3.connect(\":memory:\")\n",
    "cursor = conn.cursor()\n",
    "\n",
    "# Execute the SQL queries\n",
    "\n",
    "# a) All the temperature data\n",
    "cursor.execute(\"SELECT Temperature FROM WeatherData\")\n",
    "result_a = cursor.fetchall()\n",
    "print(\"All the temperature data:\", result_a)\n",
    "\n",
    "# b) All the cities, but without repetition\n",
    "cursor.execute(\"SELECT DISTINCT City FROM WeatherData\")\n",
    "result_b = cursor.fetchall()\n",
    "print(\"All the cities, but without repetition:\", result_b)\n",
    "\n",
    "# c) All the records for India\n",
    "cursor.execute(\"SELECT * FROM WeatherData WHERE Country='India'\")\n",
    "result_c = cursor.fetchall()\n",
    "print(\"All the records for India:\", result_c)\n",
    "\n",
    "# d) All the Fall records\n",
    "cursor.execute(\"SELECT * FROM WeatherData WHERE Season='Fall'\")\n",
    "result_d = cursor.fetchall()\n",
    "print(\"All the Fall records:\", result_d)\n",
    "\n",
    "# e) The city, country, and season for which the average rainfall is between 200 and 400 millimeters\n",
    "cursor.execute(\"SELECT City, Country, Season FROM WeatherData WHERE Rainfall BETWEEN 200 AND 400\")\n",
    "result_e = cursor.fetchall()\n",
    "print(\"City, country, and season with average rainfall between 200 and 400 millimeters:\", result_e)\n",
    "\n",
    "# f) The city and country for which the average Fall temperature is above 20 degrees, in increasing temperature order\n",
    "cursor.execute(\"SELECT City, Country FROM WeatherData WHERE Season='Fall' AND Temperature > 20 ORDER BY Temperature ASC\")\n",
    "result_f = cursor.fetchall()\n",
    "print(\"City and country with average Fall temperature above 20 degrees (in increasing temperature order):\", result_f)\n",
    "\n",
    "# g) The total annual rainfall for Cairo\n",
    "cursor.execute(\"SELECT SUM(Rainfall) FROM WeatherData WHERE City='Cairo'\")\n",
    "result_g = cursor.fetchone()[0]\n",
    "print(\"Total annual rainfall for Cairo:\", result_g)\n",
    "\n",
    "# h) The total rainfall for each season\n",
    "cursor.execute(\"SELECT Season, SUM(Rainfall) FROM WeatherData GROUP BY Season\")\n",
    "result_h = cursor.fetchall()\n",
    "print(\"Total rainfall for each season:\")\n",
    "for row in result_h:\n",
    "print(row)\n",
    "\n",
    "# Close the connection\n",
    "conn.close()\n"
   ]
  },
  {
   "cell_type": "raw",
   "id": "3054ab32",
   "metadata": {},
   "source": [
    "output:\n",
    "All the temperature data: [(15.2,), (10.4,), (25.0,), (30.6,), (35.0,), (28.3,), (20.2,), (12.8,), (3.5,), (27.8,)]\n",
    "All the cities, but without repetition: [('New York',), ('London',), ('Mumbai',), ('Cairo',)]\n",
    "All the records for India: [('Mumbai', 'India', 'Winter', 25.0, 50.5), ('Mumbai', 'India', 'Spring', 28.3, 75.2), ('Mumbai', 'India', 'Fall', 27.8, 150.0)]\n",
    "All the Fall records: [('Cairo', 'Egypt', 'Fall', 30.6, 50.0), ('London', 'United Kingdom', 'Fall', 12.8, 250.0)]\n",
    "City, country, and season with average rainfall between 200 and 400 millimeters: [('London', 'United Kingdom', 'Fall', 12.8, 250.0)]\n",
    "City and country with average Fall temperature above 20 degrees (in increasing temperature order): [('Cairo', 'Egypt')]\n",
    "Total annual rainfall for Cairo: 60.0\n",
    "Total rainfall for each season:\n",
    "('Fall', 300.0)\n",
    "('Spring', 350.3)\n",
    "('Summer', 100.0)\n",
    "('Winter', 70.5)\n"
   ]
  },
  {
   "cell_type": "markdown",
   "id": "56ac476b",
   "metadata": {},
   "source": [
    "# Question 9 . Suppose list words is defined as follows:\n",
    ">>>  words  =  ['The',  'quick',  'brown',  'fox',  'jumps',  'over', 'the',  'lazy',  'dog']\n",
    "Write list comprehension expressions that use list words and generate the following lists:\n",
    "a) ['THE',  'QUICK',  'BROWN',  'FOX',  'JUMPS',  'OVER',  'THE', 'LAZY',  'DOG']\n",
    "b) ['the',  'quick',  'brown',  'fox',  'jumps',  'over',  'the', 'lazy',  'dog']\n",
    "c) [3,  5,  5,  3,  5,  4,  3,  4,  3] (the list of lengths of words in list words).\n",
    "d) [['THE',  'the',  3],  ['QUICK',  'quick',  5],  ['BROWN', 'brown',  5],  ['FOX',  'fox',  3],  ['JUMPS',  'jumps',  5], ['OVER',  'over',  4],  ['THE',  'the',  3],  ['LAZY',  'lazy', 4],  ['DOG',  'dog',  3]] (the list containing a list for every word of list words, where each list contains the word in uppercase and lowercase and the length of the word.)\n",
    "e) ['The',  'quick',  'brown',  'fox',  'jumps',  'over',  'the', 'lazy',  'dog'] (the list of words in list words containing 4 or more characters.)"
   ]
  },
  {
   "cell_type": "code",
   "execution_count": 1,
   "id": "dc319c0f",
   "metadata": {},
   "outputs": [
    {
     "name": "stdout",
     "output_type": "stream",
     "text": [
      "Uppercase words: ['THE', 'QUICK', 'BROWN', 'FOX', 'JUMPS', 'OVER', 'THE', 'LAZY', 'DOG']\n",
      "Lowercase words: ['the', 'quick', 'brown', 'fox', 'jumps', 'over', 'the', 'lazy', 'dog']\n",
      "Word lengths: [3, 5, 5, 3, 5, 4, 3, 4, 3]\n",
      "Word details: [['THE', 'the', 3], ['QUICK', 'quick', 5], ['BROWN', 'brown', 5], ['FOX', 'fox', 3], ['JUMPS', 'jumps', 5], ['OVER', 'over', 4], ['THE', 'the', 3], ['LAZY', 'lazy', 4], ['DOG', 'dog', 3]]\n",
      "Words with 4 or more characters: ['quick', 'brown', 'jumps', 'over', 'lazy']\n"
     ]
    }
   ],
   "source": [
    "# List of words\n",
    "words = [\"The\", \"quick\", \"brown\", \"fox\", \"jumps\", \"over\", \"the\", \"lazy\", \"dog\"]\n",
    "\n",
    "# a) Uppercase words\n",
    "uppercase_words = [word.upper() for word in words]\n",
    "print(\"Uppercase words:\", uppercase_words)\n",
    "\n",
    "# b) Lowercase words\n",
    "lowercase_words = [word.lower() for word in words]\n",
    "print(\"Lowercase words:\", lowercase_words)\n",
    "\n",
    "# c) Lengths of words\n",
    "word_lengths = [len(word) for word in words]\n",
    "print(\"Word lengths:\", word_lengths)\n",
    "\n",
    "# d) Word details\n",
    "word_details = [[word.upper(), word.lower(), len(word)] for word in words]\n",
    "print(\"Word details:\", word_details)\n",
    "\n",
    "# e) Words with 4 or more characters\n",
    "words_four_or_more = [word for word in words if len(word) >= 4]\n",
    "print(\"Words with 4 or more characters:\", words_four_or_more)\n"
   ]
  }
 ],
 "metadata": {
  "kernelspec": {
   "display_name": "Python 3 (ipykernel)",
   "language": "python",
   "name": "python3"
  },
  "language_info": {
   "codemirror_mode": {
    "name": "ipython",
    "version": 3
   },
   "file_extension": ".py",
   "mimetype": "text/x-python",
   "name": "python",
   "nbconvert_exporter": "python",
   "pygments_lexer": "ipython3",
   "version": "3.10.9"
  }
 },
 "nbformat": 4,
 "nbformat_minor": 5
}
